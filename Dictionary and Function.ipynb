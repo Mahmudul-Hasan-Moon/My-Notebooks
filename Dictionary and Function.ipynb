{
 "cells": [
  {
   "cell_type": "code",
   "execution_count": 9,
   "metadata": {},
   "outputs": [
    {
     "name": "stdout",
     "output_type": "stream",
     "text": [
      "{1: 'Geeks'}\n",
      "Geeks\n",
      "For\n"
     ]
    }
   ],
   "source": [
    "# Creating a Dictionary\n",
    "Dict = {'Dict1': {1: 'Geeks'},\n",
    "        'Dict2': {'Name': 'For'}}\n",
    "  \n",
    "# Accessing element using key\n",
    "print(Dict['Dict1'])\n",
    "print(Dict['Dict1'][1])\n",
    "print(Dict['Dict2']['Name'])"
   ]
  },
  {
   "cell_type": "code",
   "execution_count": 10,
   "metadata": {},
   "outputs": [
    {
     "name": "stdout",
     "output_type": "stream",
     "text": [
      "Initial nested dictionary:-\n",
      "{}\n",
      "\n",
      "After adding dictionary Dict1\n",
      "{'Dict1': {'name': 'Bob', 'age': 21}}\n",
      "\n",
      "After adding dictionary Dict1\n",
      "{'Dict1': {'name': 'Bob', 'age': 21}, 'Dict2': {'name': 'Cara', 'age': 25}}\n"
     ]
    }
   ],
   "source": [
    "#Adding elements to a Nested Dictionary\n",
    "\n",
    "Dict = { }\n",
    "print(\"Initial nested dictionary:-\")\n",
    "print(Dict)\n",
    "  \n",
    "Dict['Dict1'] = {}\n",
    "  \n",
    "# Adding elements one at a time \n",
    "Dict['Dict1']['name'] = 'Bob'\n",
    "Dict['Dict1']['age'] = 21\n",
    "print(\"\\nAfter adding dictionary Dict1\")\n",
    "print(Dict)\n",
    "  \n",
    "# Adding whole dictionary\n",
    "Dict['Dict2'] = {'name': 'Cara', 'age': 25}\n",
    "print(\"\\nAfter adding dictionary Dict1\")\n",
    "print(Dict)"
   ]
  },
  {
   "cell_type": "code",
   "execution_count": 11,
   "metadata": {},
   "outputs": [
    {
     "name": "stdout",
     "output_type": "stream",
     "text": [
      "Ali\n",
      "25\n"
     ]
    }
   ],
   "source": [
    "#Access elements of a Nested Dictionary\n",
    "#In order to access the value of any key in nested dictionary, use indexing [] syntax.\n",
    "\n",
    "\n",
    "# Nested dictionary having same keys\n",
    "Dict = { 'Dict1': {'name': 'Ali', 'age': '19'},\n",
    "         'Dict2': {'name': 'Bob', 'age': '25'}}\n",
    "  \n",
    "# Prints value corresponding to key 'name' in Dict1\n",
    "print(Dict['Dict1']['name'])\n",
    "  \n",
    "# Prints value corresponding to key 'age' in Dict2\n",
    "print(Dict['Dict2']['age'])"
   ]
  },
  {
   "cell_type": "code",
   "execution_count": 12,
   "metadata": {},
   "outputs": [
    {
     "name": "stdout",
     "output_type": "stream",
     "text": [
      "Initial nested dictionary:-\n",
      "{'Dict1': {'name': 'Ali', 'age': 19}, 'Dict2': {'name': 'Bob', 'age': 21}}\n",
      "\n",
      "Deleting Dict2:-\n",
      "{'Dict1': {'name': 'Ali', 'age': 19}}\n",
      "\n",
      "Deleting Dict1:-\n",
      "{}\n"
     ]
    }
   ],
   "source": [
    "#Deleting dictionaries from a Nested Dictionary\n",
    "\n",
    "Dict = {'Dict1': {'name': 'Ali', 'age': 19},\n",
    "        'Dict2': {'name': 'Bob', 'age': 21}}\n",
    "print(\"Initial nested dictionary:-\")\n",
    "print(Dict)\n",
    "  \n",
    "# Deleting dictionary using del keyword \n",
    "print(\"\\nDeleting Dict2:-\")\n",
    "del Dict['Dict2']\n",
    "print(Dict)\n",
    "  \n",
    "# Deleting dictionary using pop function\n",
    "print(\"\\nDeleting Dict1:-\")\n",
    "Dict.pop('Dict1') \n",
    "print (Dict)"
   ]
  },
  {
   "cell_type": "code",
   "execution_count": 13,
   "metadata": {},
   "outputs": [
    {
     "name": "stdout",
     "output_type": "stream",
     "text": [
      "{'emp1': {'name': 'Bob', 'job': 'Mgr'}, 'emp2': {'name': 'Kim', 'job': 'Dev'}, 'emp3': {'name': 'Sam', 'job': 'Dev'}}\n"
     ]
    }
   ],
   "source": [
    "#You can use dict() function along with the zip() function, to combine separate lists of keys and values \n",
    "# obtained dynamically at runtime.\n",
    "IDs = ['emp1','emp2','emp3']\n",
    "\n",
    "EmpInfo = [{'name': 'Bob', 'job': 'Mgr'},\n",
    "           {'name': 'Kim', 'job': 'Dev'},\n",
    "           {'name': 'Sam', 'job': 'Dev'}]\n",
    "\n",
    "D = dict(zip(IDs, EmpInfo))\n",
    "\n",
    "print(D)\n",
    "# Prints {'emp1': {'name': 'Bob', 'job': 'Mgr'},\n",
    "#         'emp2': {'name': 'Kim', 'job': 'Dev'},\n",
    "#         'emp3': {'name': 'Sam', 'job': 'Dev'}}"
   ]
  },
  {
   "cell_type": "code",
   "execution_count": 17,
   "metadata": {},
   "outputs": [
    {
     "name": "stdout",
     "output_type": "stream",
     "text": [
      "{'emp1': {'name': '', 'job': ''}, 'emp2': {'name': '', 'job': ''}, 'emp3': {'name': '', 'job': ''}}\n"
     ]
    }
   ],
   "source": [
    "#You’ll often want to create a dictionary with default values for each key. The fromkeys() method offers a way to do this.\n",
    "\n",
    "IDs = ['emp1','emp2','emp3']\n",
    "Defaults = {'name': '', 'job': ''}\n",
    "\n",
    "D = dict.fromkeys(IDs, Defaults)\n",
    "\n",
    "print(D)\n",
    "# Prints {'emp1': {'name': '', 'job': ''},\n",
    "#         'emp2': {'name': '', 'job': ''},\n",
    "#         'emp3': {'name': '', 'job': ''}}"
   ]
  },
  {
   "cell_type": "code",
   "execution_count": 21,
   "metadata": {},
   "outputs": [
    {
     "name": "stdout",
     "output_type": "stream",
     "text": [
      "Bob\n",
      "Dev\n",
      "Bob\n"
     ]
    }
   ],
   "source": [
    "#To avoid such exception, you can use the special dictionary get() method.\n",
    "# key present\n",
    "D = {'emp1': {'name': 'Bob', 'job': 'Mgr'},\n",
    "     'emp2': {'name': 'Kim', 'job': 'Dev'},\n",
    "     'emp3': {'name': 'Sam', 'job': 'Dev'}}\n",
    "\n",
    "print(D['emp1']['name'])\n",
    "# Prints Bob\n",
    "\n",
    "print(D['emp2']['job'])\n",
    "# Prints Dev\n",
    "\n",
    "print(D['emp1'].get('name'))\n",
    "# Prints Bob\n",
    "\n",
    "# key absent\n",
    "#print(D['emp1'].get('salary'))\n",
    "# PrintsNone"
   ]
  },
  {
   "cell_type": "code",
   "execution_count": 22,
   "metadata": {},
   "outputs": [
    {
     "name": "stdout",
     "output_type": "stream",
     "text": [
      "{'name': 'Max', 'job': 'Janitor'}\n"
     ]
    }
   ],
   "source": [
    "#Change Nested Dictionary Items\n",
    "\n",
    "D = {'emp1': {'name': 'Bob', 'job': 'Mgr'},\n",
    "     'emp2': {'name': 'Kim', 'job': 'Dev'},\n",
    "     'emp3': {'name': 'Sam', 'job': 'Dev'}}\n",
    "\n",
    "D['emp3']['name'] = 'Max'\n",
    "D['emp3']['job'] = 'Janitor'\n",
    "\n",
    "print(D['emp3'])\n",
    "# Prints {'name': 'Max', 'job': 'Janitor'}"
   ]
  },
  {
   "cell_type": "code",
   "execution_count": 23,
   "metadata": {},
   "outputs": [
    {
     "name": "stdout",
     "output_type": "stream",
     "text": [
      "{'emp1': {'name': 'Bob', 'job': 'Mgr'}, 'emp2': {'name': 'Kim', 'job': 'Dev'}, 'emp3': {'name': 'Max', 'job': 'Janitor'}}\n"
     ]
    }
   ],
   "source": [
    "#Add or Update Nested Dictionary Items\n",
    "\n",
    "D = {'emp1': {'name': 'Bob', 'job': 'Mgr'},\n",
    "     'emp2': {'name': 'Kim', 'job': 'Dev'},\n",
    "     'emp3': {'name': 'Sam', 'job': 'Dev'}}\n",
    "\n",
    "D['emp3'] = {'name': 'Max', 'job': 'Janitor'}\n",
    "\n",
    "print(D)\n",
    "# Prints {'emp1': {'name': 'Bob', 'job': 'Mgr'},\n",
    "#         'emp2': {'name': 'Kim', 'job': 'Dev'},\n",
    "#         'emp3': {'name': 'Max', 'job': 'Janitor'}}"
   ]
  },
  {
   "cell_type": "code",
   "execution_count": 24,
   "metadata": {},
   "outputs": [
    {
     "name": "stdout",
     "output_type": "stream",
     "text": [
      "{'emp1': {'name': 'Bob', 'job': 'Mgr'}, 'emp2': {'name': 'Sam', 'job': 'Dev'}, 'emp3': {'name': 'Max', 'job': 'Janitor'}}\n"
     ]
    }
   ],
   "source": [
    "#Merge Two Nested Dictionaries\n",
    "\n",
    "D1 = {'emp1': {'name': 'Bob', 'job': 'Mgr'},\n",
    "      'emp2': {'name': 'Kim', 'job': 'Dev'}}\n",
    "\n",
    "D2 = {'emp2': {'name': 'Sam', 'job': 'Dev'},\n",
    "      'emp3': {'name': 'Max', 'job': 'Janitor'}}\n",
    "\n",
    "D1.update(D2)\n",
    "\n",
    "print(D1)"
   ]
  },
  {
   "cell_type": "code",
   "execution_count": 25,
   "metadata": {},
   "outputs": [
    {
     "name": "stdout",
     "output_type": "stream",
     "text": [
      "\n",
      "Employee ID: emp1\n",
      "name: Bob\n",
      "job: Mgr\n",
      "\n",
      "Employee ID: emp2\n",
      "name: Kim\n",
      "job: Dev\n",
      "\n",
      "Employee ID: emp3\n",
      "name: Sam\n",
      "job: Dev\n"
     ]
    }
   ],
   "source": [
    "#Iterate Through a Nested Dictionary\n",
    "\n",
    "D = {'emp1': {'name': 'Bob', 'job': 'Mgr'},\n",
    "     'emp2': {'name': 'Kim', 'job': 'Dev'},\n",
    "     'emp3': {'name': 'Sam', 'job': 'Dev'}}\n",
    "\n",
    "for id, info in D.items():\n",
    "    print(\"\\nEmployee ID:\", id)\n",
    "    for key in info:\n",
    "        print(key + ':', info[key])\n"
   ]
  },
  {
   "cell_type": "code",
   "execution_count": 2,
   "metadata": {},
   "outputs": [
    {
     "name": "stdout",
     "output_type": "stream",
     "text": [
      "\n",
      "Employee ID: emp1\n",
      "Bob\n",
      "\n",
      "Employee ID: emp2\n",
      "Kim\n",
      "\n",
      "Employee ID: emp3\n",
      "Sam\n"
     ]
    }
   ],
   "source": [
    "#Iterate Through a Nested Dictionary\n",
    "\n",
    "D = {'emp1': {'name': 'Bob', 'job': 'Mgr'},\n",
    "     'emp2': {'name': 'Kim', 'job': 'Dev'},\n",
    "     'emp3': {'name': 'Sam', 'job': 'Dev'}}\n",
    "\n",
    "for id, info in D.items():\n",
    "    print(\"\\nEmployee ID:\", id)\n",
    "    #for key in info:\n",
    "    print(info['name'])"
   ]
  },
  {
   "cell_type": "code",
   "execution_count": 40,
   "metadata": {},
   "outputs": [
    {
     "name": "stdout",
     "output_type": "stream",
     "text": [
      "\n",
      "Employee ID: emp1\n",
      "name\n",
      "name\n",
      "\n",
      "Employee ID: emp2\n",
      "name\n",
      "name\n",
      "\n",
      "Employee ID: emp3\n",
      "name\n",
      "name\n"
     ]
    }
   ],
   "source": [
    "#Iterate Through a Nested Dictionary\n",
    "\n",
    "D = {'emp1': {'name': 'Bob', 'job': 'Mgr'},\n",
    "     'emp2': {'name': 'Kim', 'job': 'Dev'},\n",
    "     'emp3': {'name': 'Sam', 'job': 'Dev'}}\n",
    "\n",
    "for id, info in D.items():\n",
    "    print(\"\\nEmployee ID:\", id)\n",
    "    for key in info:\n",
    "        print(list(info.keys())[0])"
   ]
  },
  {
   "cell_type": "code",
   "execution_count": 1,
   "metadata": {},
   "outputs": [
    {
     "name": "stdout",
     "output_type": "stream",
     "text": [
      "\n",
      "Employee ID: emp1\n",
      "('name', 'Bob')\n",
      "\n",
      "Employee ID: emp2\n",
      "('name', 'Kim')\n",
      "\n",
      "Employee ID: emp3\n",
      "('name', 'Sam')\n"
     ]
    }
   ],
   "source": [
    "#Iterate Through a Nested Dictionary\n",
    "\n",
    "D = {'emp1': {'name': 'Bob', 'job': 'Mgr'},\n",
    "     'emp2': {'name': 'Kim', 'job': 'Dev'},\n",
    "     'emp3': {'name': 'Sam', 'job': 'Dev'}}\n",
    "\n",
    "for id, info in D.items():\n",
    "    print(\"\\nEmployee ID:\", id)\n",
    "    #for key in info:\n",
    "    print(list(info.items())[0])"
   ]
  },
  {
   "cell_type": "code",
   "execution_count": 45,
   "metadata": {},
   "outputs": [
    {
     "name": "stdout",
     "output_type": "stream",
     "text": [
      "\n",
      "Employee ID: emp1\n",
      "Bob\n",
      "\n",
      "Employee ID: emp2\n",
      "Kim\n",
      "\n",
      "Employee ID: emp3\n",
      "Sam\n"
     ]
    }
   ],
   "source": [
    "#Iterate Through a Nested Dictionary\n",
    "\n",
    "D = {'emp1': {'name': 'Bob', 'job': 'Mgr'},\n",
    "     'emp2': {'name': 'Kim', 'job': 'Dev'},\n",
    "     'emp3': {'name': 'Sam', 'job': 'Dev'}}\n",
    "\n",
    "for id, info in D.items():\n",
    "    print(\"\\nEmployee ID:\", id)\n",
    "    #for key in info:\n",
    "    print(list(info.values())[0])"
   ]
  },
  {
   "cell_type": "code",
   "execution_count": 55,
   "metadata": {},
   "outputs": [
    {
     "name": "stdout",
     "output_type": "stream",
     "text": [
      "Bob\n",
      "Bob\n",
      "Kim\n",
      "Kim\n",
      "Sam\n",
      "Sam\n"
     ]
    }
   ],
   "source": [
    "#Iterate Through a Nested Dictionary\n",
    "\n",
    "D = {'emp1': {'name': 'Bob', 'job': 'Mgr'},\n",
    "     'emp2': {'name': 'Kim', 'job': 'Dev'},\n",
    "     'emp3': {'name': 'Sam', 'job': 'Dev'}}\n",
    "\n",
    "for id,info in D.items():\n",
    "    #print(\"\\nEmployee ID:\", id)\n",
    "    #for key in info:\n",
    "    print(info['name'])\n",
    "    print(list(info.values())[0])"
   ]
  },
  {
   "cell_type": "markdown",
   "metadata": {},
   "source": [
    "*args (Non Keyword Arguments)\n",
    "\n",
    "**kwargs (Keyword Arguments)"
   ]
  },
  {
   "cell_type": "code",
   "execution_count": 56,
   "metadata": {},
   "outputs": [
    {
     "name": "stdout",
     "output_type": "stream",
     "text": [
      "Sum: 8\n",
      "Sum: 22\n",
      "Sum: 17\n"
     ]
    }
   ],
   "source": [
    "def adder(*num):\n",
    "    sum = 0\n",
    "    \n",
    "    for n in num:\n",
    "        sum = sum + n\n",
    "\n",
    "    print(\"Sum:\",sum)\n",
    "\n",
    "adder(3,5)\n",
    "adder(4,5,6,7)\n",
    "adder(1,2,3,5,6)"
   ]
  },
  {
   "cell_type": "code",
   "execution_count": 1,
   "metadata": {},
   "outputs": [
    {
     "name": "stdout",
     "output_type": "stream",
     "text": [
      "\n",
      "Data type of argument: <class 'dict'>\n",
      "Firstname is Sita\n",
      "Lastname is Sharma\n",
      "Age is 22\n",
      "Phone is 1234567890\n",
      "\n",
      "Data type of argument: <class 'dict'>\n",
      "Firstname is John\n",
      "Lastname is Wood\n",
      "Email is johnwood@nomail.com\n",
      "Country is Wakanda\n",
      "Age is 25\n",
      "Phone is 9876543210\n"
     ]
    }
   ],
   "source": [
    "def intro(**data):\n",
    "    print(\"\\nData type of argument:\",type(data))\n",
    "\n",
    "    for key, value in data.items():\n",
    "        print(\"{} is {}\".format(key,value))\n",
    "\n",
    "intro(Firstname=\"Sita\", Lastname=\"Sharma\", Age=22, Phone=1234567890)\n",
    "intro(Firstname=\"John\", Lastname=\"Wood\", Email=\"johnwood@nomail.com\", Country=\"Wakanda\", Age=25, Phone=9876543210)"
   ]
  },
  {
   "cell_type": "code",
   "execution_count": null,
   "metadata": {},
   "outputs": [],
   "source": []
  }
 ],
 "metadata": {
  "kernelspec": {
   "display_name": "Python 3",
   "language": "python",
   "name": "python3"
  },
  "language_info": {
   "codemirror_mode": {
    "name": "ipython",
    "version": 3
   },
   "file_extension": ".py",
   "mimetype": "text/x-python",
   "name": "python",
   "nbconvert_exporter": "python",
   "pygments_lexer": "ipython3",
   "version": "3.8.5"
  }
 },
 "nbformat": 4,
 "nbformat_minor": 4
}
