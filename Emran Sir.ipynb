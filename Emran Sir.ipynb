{
 "cells": [
  {
   "cell_type": "code",
   "execution_count": 38,
   "metadata": {},
   "outputs": [
    {
     "data": {
      "image/png": "[encoded data removed]",
      "text/plain": [
       "<Figure size 432x288 with 1 Axes>"
      ]
     },
     "metadata": {
      "needs_background": "light"
     },
     "output_type": "display_data"
    }
   ],
   "source": [
    "import numpy as np\n",
    "import matplotlib.pyplot as plt\n",
    "x = [1, 2, 3, 4]\n",
    "# x = ['a', 'b', 'c', 'd']\n",
    "y = [[1, 4, 9, 16], [6, 2, 11, 9]]\n",
    "e = [[0.5, 1., 1.5, 2.], [5., 2.3, 1., .5]]\n",
    "_, ax = plt.subplots()\n",
    "for i in range(len(y)):\n",
    "    ax.errorbar(np.array(x)+i*0.2, y[i], yerr=e[i], fmt='o', capsize=2)\n",
    "plt.show()"
   ]
  },
  {
   "cell_type": "code",
   "execution_count": 60,
   "metadata": {},
   "outputs": [],
   "source": [
    "import numpy as np\n",
    "import matplotlib.pyplot as plt\n",
    "\n",
    "d = {}\n",
    "x_str= ['a', 'b', 'c', 'd']\n",
    "count = 1\n",
    "for i in x_str:\n",
    "  if i not in d:\n",
    "     d[i] = count\n",
    "     count += 1\n",
    "\n",
    "x = [d[i] for i in x_str]"
   ]
  },
  {
   "cell_type": "code",
   "execution_count": 61,
   "metadata": {},
   "outputs": [
    {
     "data": {
      "text/plain": [
       "[1, 2, 3, 4]"
      ]
     },
     "execution_count": 61,
     "metadata": {},
     "output_type": "execute_result"
    }
   ],
   "source": [
    "x"
   ]
  },
  {
   "cell_type": "code",
   "execution_count": 70,
   "metadata": {},
   "outputs": [
    {
     "data": {
      "image/png": "[encoded data removed]",
      "text/plain": [
       "<Figure size 432x288 with 1 Axes>"
      ]
     },
     "metadata": {
      "needs_background": "light"
     },
     "output_type": "display_data"
    }
   ],
   "source": [
    "y = [[1, 4, 9, 16], [6, 2, 11, 9]]\n",
    "e = [[0.5, 1., 1.5, 2.], [5., 2.3, 1., .5]]\n",
    "_, ax = plt.subplots()\n",
    "for i in range(len(y)):\n",
    "    ax.errorbar(np.array(x)+i*0.2, y[i], yerr=e[i], fmt='o', capsize=2)\n",
    "    ax.set_xticks(x)\n",
    "    ax.set_xticklabels(x_str)\n",
    "plt.show()"
   ]
  },
  {
   "cell_type": "code",
   "execution_count": 68,
   "metadata": {},
   "outputs": [
    {
     "data": {
      "image/png": "[encoded data removed]",
      "text/plain": [
       "<Figure size 432x288 with 1 Axes>"
      ]
     },
     "metadata": {
      "needs_background": "light"
     },
     "output_type": "display_data"
    }
   ],
   "source": [
    "# Final\n",
    "\n",
    "import numpy as np\n",
    "import matplotlib.pyplot as plt\n",
    "\n",
    "d = {}\n",
    "x_str= ['a', 'b', 'c', 'd']\n",
    "count = 1\n",
    "for i in x_str:\n",
    "  if i not in d:\n",
    "     d[i] = count\n",
    "     count += 1\n",
    "\n",
    "x = [d[i] for i in x_str]\n",
    "\n",
    "\n",
    "y = [[1, 4, 9, 16], [6, 2, 11, 9]]\n",
    "e = [[0.5, 1., 1.5, 2.], [5., 2.3, 1., .5]]\n",
    "_, ax = plt.subplots()\n",
    "for i in range(len(y)):\n",
    "    ax.errorbar(np.array(x)+i*0.2, y[i], yerr=e[i], fmt='o', capsize=2)\n",
    "    ax.set_xticks(x)\n",
    "    ax.set_xticklabels(x_str)\n",
    "plt.show()"
   ]
  },
  {
   "cell_type": "code",
   "execution_count": null,
   "metadata": {},
   "outputs": [],
   "source": []
  }
 ],
 "metadata": {
  "kernelspec": {
   "display_name": "Python 3",
   "language": "python",
   "name": "python3"
  },
  "language_info": {
   "codemirror_mode": {
    "name": "ipython",
    "version": 3
   },
   "file_extension": ".py",
   "mimetype": "text/x-python",
   "name": "python",
   "nbconvert_exporter": "python",
   "pygments_lexer": "ipython3",
   "version": "3.8.8"
  }
 },
 "nbformat": 4,
 "nbformat_minor": 4
}
