{
 "cells": [
  {
   "cell_type": "code",
   "execution_count": 1,
   "metadata": {},
   "outputs": [
    {
     "name": "stdout",
     "output_type": "stream",
     "text": [
      "{'Name': 'Moon', 'Age': 24, 'Mobile': '01762775529'}\n"
     ]
    }
   ],
   "source": [
    "# Create Dictionary from list\n",
    "keys = ['Name','Age','Mobile']\n",
    "values = [\"Moon\",24,'01762775529']\n",
    "\n",
    "D = dict(zip(keys, values))\n",
    "\n",
    "print(D)"
   ]
  },
  {
   "cell_type": "code",
   "execution_count": 2,
   "metadata": {},
   "outputs": [
    {
     "name": "stdout",
     "output_type": "stream",
     "text": [
      "{'Name': 'Moon', 'Age': 24, 'Mobile': '01762775529', 'Ten': 10, 'Twenty': 20, 'Thirty': 30}\n"
     ]
    }
   ],
   "source": [
    "# marge two dictionary\n",
    "\n",
    "dict1 = {'Name': 'Moon', 'Age': 24, 'Mobile': '01762775529'}\n",
    "dict2 = {'Ten': 10, 'Twenty': 20, 'Thirty': 30}\n",
    "\n",
    "dict3 = dict1.copy()\n",
    "dict3.update(dict2)\n",
    "\n",
    "print(dict3)"
   ]
  },
  {
   "cell_type": "code",
   "execution_count": 3,
   "metadata": {},
   "outputs": [
    {
     "name": "stdout",
     "output_type": "stream",
     "text": [
      "{'Name': 'Moon', 'Age': 24, 'Mobile': '01762775529', 'Ten': 10, 'Twenty': 20, 'Thirty': 30}\n"
     ]
    }
   ],
   "source": [
    "dict1 = {'Name': 'Moon', 'Age': 24, 'Mobile': '01762775529'}\n",
    "dict2 = {'Ten': 10, 'Twenty': 20, 'Thirty': 30}\n",
    "\n",
    "dit3 = {**dict1, **dict2}\n",
    "\n",
    "print(dit3)"
   ]
  },
  {
   "cell_type": "code",
   "execution_count": 5,
   "metadata": {},
   "outputs": [
    {
     "name": "stdout",
     "output_type": "stream",
     "text": [
      "{'Rahim': {'Designation': 'Programmer', 'Salary': 80000}, 'Razu': {'Designation': 'Programmer', 'Salary': 80000}, 'Babu': {'Designation': 'Programmer', 'Salary': 80000}}\n",
      "{'Designation': 'Programmer', 'Salary': 80000}\n"
     ]
    }
   ],
   "source": [
    "# Default values in dictionary\n",
    "\n",
    "employee = ['Rahim', 'Razu', 'Babu']\n",
    "\n",
    "defaults = {'Designation':'Programmer', 'Salary':80000}\n",
    "\n",
    "D = dict.fromkeys(employee, defaults)\n",
    "\n",
    "print(D)\n",
    "\n",
    "print(D['Razu'])"
   ]
  },
  {
   "cell_type": "code",
   "execution_count": 7,
   "metadata": {},
   "outputs": [
    {
     "name": "stdout",
     "output_type": "stream",
     "text": [
      "{'Age': 25, 'City': 'Dinajpur'}\n"
     ]
    }
   ],
   "source": [
    "# Delete set of keys from a dictionary\n",
    "\n",
    "sampleDict = {\n",
    "    'Name':'Shawon',\n",
    "    'Age':25,\n",
    "    'Salary': 80000,\n",
    "    'City': 'Dinajpur'\n",
    "}\n",
    "\n",
    "keyremove = ['Name','Salary']\n",
    "\n",
    "sampleDict = {k: sampleDict[k] for k in sampleDict.keys()- keyremove}\n",
    "\n",
    "print(sampleDict)"
   ]
  },
  {
   "cell_type": "code",
   "execution_count": 9,
   "metadata": {},
   "outputs": [
    {
     "name": "stdout",
     "output_type": "stream",
     "text": [
      "Chemistry\n"
     ]
    }
   ],
   "source": [
    "# Find minimum value key\n",
    "\n",
    "D = {\n",
    "    \"Math\":87,\n",
    "    \"Chemistry\": 75,\n",
    "    \"Physics\": 95,\n",
    "    \"Bangla\": 82\n",
    "}\n",
    "\n",
    "print(min(D, key=D.get))"
   ]
  },
  {
   "cell_type": "markdown",
   "metadata": {},
   "source": [
    "### Nested Dictionary"
   ]
  },
  {
   "cell_type": "code",
   "execution_count": 1,
   "metadata": {},
   "outputs": [
    {
     "name": "stdout",
     "output_type": "stream",
     "text": [
      "{1: {'Name': 'Moon', 'Age': 24, 'Phn': '01762775529'}, 2: {'Name': 'Shawon', 'Age': 26, 'Phn': '01762485529'}}\n"
     ]
    }
   ],
   "source": [
    "Man = { 1: {\"Name\":\"Moon\", 'Age':24, \"Phn\":'01762775529'},\n",
    "        2: {\"Name\":\"Shawon\", 'Age':26, \"Phn\":'01762485529'}\n",
    "}\n",
    "\n",
    "print(Man)"
   ]
  },
  {
   "cell_type": "code",
   "execution_count": 4,
   "metadata": {},
   "outputs": [
    {
     "name": "stdout",
     "output_type": "stream",
     "text": [
      "{'Name': 'Moon', 'Age': 24, 'Phn': '01762775529'}\n"
     ]
    }
   ],
   "source": [
    "print(Man[1])"
   ]
  },
  {
   "cell_type": "code",
   "execution_count": 5,
   "metadata": {},
   "outputs": [
    {
     "name": "stdout",
     "output_type": "stream",
     "text": [
      "Moon\n"
     ]
    }
   ],
   "source": [
    "print(Man[1][\"Name\"])"
   ]
  },
  {
   "cell_type": "code",
   "execution_count": 6,
   "metadata": {},
   "outputs": [
    {
     "name": "stdout",
     "output_type": "stream",
     "text": [
      "{1: {'Name': 'Moon', 'Age': 24, 'Phn': '01762775529', 'Sex': 'Male'}, 2: {'Name': 'Shawon', 'Age': 26, 'Phn': '01762485529'}}\n"
     ]
    }
   ],
   "source": [
    "Man[1][\"Sex\"]=\"Male\"\n",
    "\n",
    "print(Man)"
   ]
  },
  {
   "cell_type": "code",
   "execution_count": 7,
   "metadata": {},
   "outputs": [
    {
     "name": "stdout",
     "output_type": "stream",
     "text": [
      "{1: {'Name': 'Moon', 'Age': 24, 'Phn': '01762775529', 'Sex': 'Male'}, 2: {'Name': 'Shawon', 'Age': 26, 'Phn': '01762485529'}, 3: {'Name': 'Rahim', 'Age': 32, 'Phn': '01522485529'}}\n"
     ]
    }
   ],
   "source": [
    "Man[3] = {\"Name\":\"Rahim\", 'Age':32, \"Phn\":'01522485529'}\n",
    "\n",
    "print(Man)"
   ]
  },
  {
   "cell_type": "code",
   "execution_count": 8,
   "metadata": {},
   "outputs": [
    {
     "name": "stdout",
     "output_type": "stream",
     "text": [
      "{1: {'Name': 'Moon', 'Age': 24, 'Phn': '01762775529', 'Sex': 'Male'}, 3: {'Name': 'Rahim', 'Age': 32, 'Phn': '01522485529'}}\n"
     ]
    }
   ],
   "source": [
    "del Man[2]\n",
    "\n",
    "print(Man)"
   ]
  },
  {
   "cell_type": "code",
   "execution_count": 9,
   "metadata": {},
   "outputs": [
    {
     "name": "stdout",
     "output_type": "stream",
     "text": [
      "{1: {'Name': 'Moon', 'Age': 24, 'Phn': '01762775529', 'Sex': 'Male'}}\n"
     ]
    }
   ],
   "source": [
    "Man.pop(3)\n",
    "\n",
    "print(Man)"
   ]
  },
  {
   "cell_type": "code",
   "execution_count": 10,
   "metadata": {},
   "outputs": [
    {
     "name": "stdout",
     "output_type": "stream",
     "text": [
      "{'emp1': {'name': 'Bob', 'job': 'Mgr'}, 'emp2': {'name': 'Kim', 'job': 'Dev'}, 'emp3': {'name': 'Sam', 'job': 'Dev'}}\n"
     ]
    }
   ],
   "source": [
    "IDs = ['emp1','emp2','emp3']\n",
    "\n",
    "EmpInfo = [{'name': 'Bob', 'job': 'Mgr'},\n",
    "           {'name': 'Kim', 'job': 'Dev'},\n",
    "           {'name': 'Sam', 'job': 'Dev'}]\n",
    "\n",
    "D = dict(zip(IDs,EmpInfo))\n",
    "\n",
    "print(D)"
   ]
  },
  {
   "cell_type": "markdown",
   "metadata": {},
   "source": [
    "### Nested Dictionary - 2"
   ]
  },
  {
   "cell_type": "code",
   "execution_count": 11,
   "metadata": {},
   "outputs": [
    {
     "name": "stdout",
     "output_type": "stream",
     "text": [
      "{'emp1': {'name': 'Bob', 'job': 'Mgr'}, 'emp2': {'name': 'Kim', 'job': 'Dev'}, 'emp3': {'name': 'Sagor', 'job': 'Eng'}}\n"
     ]
    }
   ],
   "source": [
    "D = {'emp1': {'name': 'Bob', 'job': 'Mgr'},\n",
    "     'emp2': {'name': 'Kim', 'job': 'Dev'},\n",
    "     'emp3': {'name': 'Sam', 'job': 'Dev'}}\n",
    "\n",
    "D['emp3']['name'] = \"Sagor\"\n",
    "D['emp3']['job'] = \"Eng\"\n",
    "\n",
    "print(D)"
   ]
  },
  {
   "cell_type": "code",
   "execution_count": 12,
   "metadata": {},
   "outputs": [
    {
     "name": "stdout",
     "output_type": "stream",
     "text": [
      "{'emp1': {'name': 'Bob', 'job': 'Mgr'}, 'emp2': {'name': 'Kim', 'job': 'Dev'}, 'emp3': {'name': 'Sam', 'job': 'Dev'}}\n"
     ]
    }
   ],
   "source": [
    "D['emp3'] = {'name': 'Sam', 'job': 'Dev'}\n",
    "\n",
    "print(D)"
   ]
  },
  {
   "cell_type": "code",
   "execution_count": 13,
   "metadata": {},
   "outputs": [
    {
     "name": "stdout",
     "output_type": "stream",
     "text": [
      "{'emp1': {'name': 'Bob', 'job': 'Mgr'}, 'emp2': {'name': 'Sam', 'job': 'Dev'}, 'emp3': {'name': 'Max', 'job': 'Janitor'}}\n"
     ]
    }
   ],
   "source": [
    "#Merge Two Nested Dictionaries\n",
    "\n",
    "D1 = {'emp1': {'name': 'Bob', 'job': 'Mgr'},\n",
    "      'emp2': {'name': 'Kim', 'job': 'Dev'}}\n",
    "\n",
    "D2 = {'emp2': {'name': 'Sam', 'job': 'Dev'},\n",
    "      'emp3': {'name': 'Max', 'job': 'Janitor'}}\n",
    "\n",
    "D1.update(D2)\n",
    "\n",
    "print(D1)"
   ]
  },
  {
   "cell_type": "code",
   "execution_count": 15,
   "metadata": {},
   "outputs": [
    {
     "name": "stdout",
     "output_type": "stream",
     "text": [
      "\n",
      "Employee:  emp1\n",
      "name: Bob\n",
      "job: Mgr\n",
      "\n",
      "Employee:  emp2\n",
      "name: Kim\n",
      "job: Dev\n",
      "\n",
      "Employee:  emp3\n",
      "name: Sam\n",
      "job: Dev\n"
     ]
    }
   ],
   "source": [
    "#Iterate Through a Nested Dictionary\n",
    "\n",
    "D = {'emp1': {'name': 'Bob', 'job': 'Mgr'},\n",
    "     'emp2': {'name': 'Kim', 'job': 'Dev'},\n",
    "     'emp3': {'name': 'Sam', 'job': 'Dev'}}\n",
    "\n",
    "for id, info in D.items():\n",
    "    print(\"\\nEmployee: \", id)\n",
    "    for key in info:\n",
    "        print(key + ':' , info[key])\n",
    "        \n",
    "    \n",
    "    "
   ]
  },
  {
   "cell_type": "code",
   "execution_count": 16,
   "metadata": {},
   "outputs": [
    {
     "name": "stdout",
     "output_type": "stream",
     "text": [
      "\n",
      "Employee:  emp1\n",
      "job: Mgr\n",
      "\n",
      "Employee:  emp2\n",
      "job: Dev\n",
      "\n",
      "Employee:  emp3\n",
      "job: Dev\n"
     ]
    }
   ],
   "source": [
    "for id, info in D.items():\n",
    "    print(\"\\nEmployee: \", id)\n",
    "    #for key in info:\n",
    "    print(key + ':' , info[key])"
   ]
  },
  {
   "cell_type": "code",
   "execution_count": null,
   "metadata": {},
   "outputs": [],
   "source": []
  }
 ],
 "metadata": {
  "kernelspec": {
   "display_name": "Python 3",
   "language": "python",
   "name": "python3"
  },
  "language_info": {
   "codemirror_mode": {
    "name": "ipython",
    "version": 3
   },
   "file_extension": ".py",
   "mimetype": "text/x-python",
   "name": "python",
   "nbconvert_exporter": "python",
   "pygments_lexer": "ipython3",
   "version": "3.8.5"
  }
 },
 "nbformat": 4,
 "nbformat_minor": 4
}
